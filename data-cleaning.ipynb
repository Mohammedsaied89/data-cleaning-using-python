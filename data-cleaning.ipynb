{
 "cells": [
  {
   "cell_type": "markdown",
   "id": "abc14da6",
   "metadata": {},
   "source": [
    "# Data Cleaning "
   ]
  },
  {
   "cell_type": "markdown",
   "id": "9e09fde8",
   "metadata": {},
   "source": [
    "## first : loading the data"
   ]
  },
  {
   "cell_type": "code",
   "execution_count": null,
   "id": "f0210ff3",
   "metadata": {},
   "outputs": [],
   "source": [
    "import pandas as pd"
   ]
  },
  {
   "cell_type": "code",
   "execution_count": null,
   "id": "ef23638f",
   "metadata": {},
   "outputs": [],
   "source": [
    "df = pd.read_csv('we put the path here')"
   ]
  },
  {
   "cell_type": "markdown",
   "id": "65ed8d9a",
   "metadata": {},
   "source": [
    "## second : exploring the data"
   ]
  },
  {
   "cell_type": "markdown",
   "id": "4e17737a",
   "metadata": {},
   "source": [
    "### in case we want to explore our data we can use the following :-"
   ]
  },
  {
   "cell_type": "code",
   "execution_count": null,
   "id": "184f8201",
   "metadata": {},
   "outputs": [],
   "source": [
    "df.head(n=5)                   # return the first 5 rows"
   ]
  },
  {
   "cell_type": "code",
   "execution_count": null,
   "id": "84de6dec",
   "metadata": {},
   "outputs": [],
   "source": [
    "df.tail(n=5)                   # return the last 5 rows"
   ]
  },
  {
   "cell_type": "code",
   "execution_count": null,
   "id": "d2f56130",
   "metadata": {},
   "outputs": [],
   "source": [
    "df.shape                       # the shape of the dataset (   ,   )"
   ]
  },
  {
   "cell_type": "code",
   "execution_count": null,
   "id": "21f1cad5",
   "metadata": {},
   "outputs": [],
   "source": [
    "df.columns                     # the columns names at the dataset "
   ]
  },
  {
   "cell_type": "code",
   "execution_count": null,
   "id": "6723472d",
   "metadata": {},
   "outputs": [],
   "source": [
    "df.describe( )                 # statistical summary of the dataset ( count , max , min , std , mean , 25% , 50% , 75%)"
   ]
  },
  {
   "cell_type": "code",
   "execution_count": null,
   "id": "384f2ab7",
   "metadata": {},
   "outputs": [],
   "source": [
    "df.dtypes                      # the type of each column values"
   ]
  },
  {
   "cell_type": "code",
   "execution_count": null,
   "id": "e394394b",
   "metadata": {},
   "outputs": [],
   "source": [
    "df.info(verbose=True)          # information about the index dtype and columns , non-null values,memory storage"
   ]
  },
  {
   "cell_type": "code",
   "execution_count": null,
   "id": "4b4c10c7",
   "metadata": {},
   "outputs": [],
   "source": []
  },
  {
   "cell_type": "code",
   "execution_count": null,
   "id": "f95bb9f1",
   "metadata": {},
   "outputs": [],
   "source": []
  }
 ],
 "metadata": {
  "kernelspec": {
   "display_name": "Python 3 (ipykernel)",
   "language": "python",
   "name": "python3"
  },
  "language_info": {
   "codemirror_mode": {
    "name": "ipython",
    "version": 3
   },
   "file_extension": ".py",
   "mimetype": "text/x-python",
   "name": "python",
   "nbconvert_exporter": "python",
   "pygments_lexer": "ipython3",
   "version": "3.8.11"
  }
 },
 "nbformat": 4,
 "nbformat_minor": 5
}
